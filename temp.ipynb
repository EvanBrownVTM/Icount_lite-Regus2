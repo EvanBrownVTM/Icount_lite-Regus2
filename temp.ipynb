{
 "cells": [
  {
   "cell_type": "code",
   "execution_count": 16,
   "metadata": {},
   "outputs": [
    {
     "data": {
      "text/plain": [
       "<re.Match object; span=(0, 7), match='cam1231'>"
      ]
     },
     "execution_count": 16,
     "metadata": {},
     "output_type": "execute_result"
    }
   ],
   "source": [
    "import re\n",
    "re.match(\"cam[0-9]+\", \"cam1231\")"
   ]
  },
  {
   "cell_type": "code",
   "execution_count": null,
   "metadata": {},
   "outputs": [],
   "source": [
    "def gen_video(transid):\n",
    "\n",
    "        if not os.path.exists(\"archive/{}/tmp/\".format(transid)):\n",
    "                os.mkdir(\"archive/{}/tmp/\".format(transid))\n",
    "\n",
    "        def get_cam_dirs(root_dir, logger):\n",
    "            cam_dirs = []\n",
    "            for x in os.listdir(root_dir):\n",
    "                if bool(re.search(\"cam[0-9]+\", x)):\n",
    "                    cam_dirs.append(os.path.join(root_dir, x))\n",
    "                    logger.info('Camera Directory Found: ' + x)\n",
    "        cam_dirs = get_cam_dirs(root_dir = \"archive/{}\".format(transid))\n",
    "\n",
    "        cam_imgs = {}\n",
    "        for cam_dir in cam_dirs:\n",
    "            cam_imgs[cam_dir] = sorted(os.listdir(cam_dir))\n",
    "\n",
    "        l_cam0 = sorted(os.listdir(\"archive/{}/cam0/images\".format(transid)))\n",
    "        l_cam1 = sorted(os.listdir(\"archive/{}/cam1/images\".format(transid)))\n",
    "        #l_cam2 = sorted(os.listdir(\"archive/{}/cam2/images\".format(transid)))\n",
    "        l = min(len(l_cam0), len(l_cam1))\n",
    "        for i in range(l):\n",
    "                img0 = cv2.imread(\"archive/{}/cam0/images/{}\".format(transid, l_cam0[i]))\n",
    "                img1 = cv2.imread(\"archive/{}/cam1/images/{}\".format(transid, l_cam1[i]))\n",
    "                #img2 = cv2.imread(\"archive/{}/cam2/images/{}\".format(transid, l_cam2[i]))\n",
    "                img2 = np.zeros(img0.shape, dtype=np.uint8)\n",
    "                img_hstack = np.hstack([img0, img1, img2])\n",
    "                cv2.putText(img_hstack, 'Camera 2 Offline', (500, 100), cv2.FONT_HERSHEY_SIMPLEX, 0.5, (255, 255, 255), 1, cv2.LINE_AA)\n",
    "                cv2.putText(img_hstack, 'frame:' + str(i), (520, 20), cv2.FONT_HERSHEY_SIMPLEX, 0.5, (255, 255, 255), 1, cv2.LINE_AA)\n",
    "                cv2.imwrite(\"archive/{}/tmp/{}\".format(transid, l_cam0[i]), img_hstack)\n",
    "\n",
    "        cam_folder = 'archive/{}/tmp/'.format(transid)\n",
    "        c0 = sorted(os.listdir(cam_folder))\n",
    "        image_files = [os.path.join(cam_folder, img) for img in c0]\n",
    "        clip = moviepy.video.io.ImageSequenceClip.ImageSequenceClip(image_files, fps=12)\n",
    "        clip.write_videofile('post_archive/{}/media.mp4'.format(transid), verbose=False, logger = None)\n",
    "        return\n"
   ]
  }
 ],
 "metadata": {
  "kernelspec": {
   "display_name": "Python 3.8.10 64-bit",
   "language": "python",
   "name": "python3"
  },
  "language_info": {
   "codemirror_mode": {
    "name": "ipython",
    "version": 3
   },
   "file_extension": ".py",
   "mimetype": "text/x-python",
   "name": "python",
   "nbconvert_exporter": "python",
   "pygments_lexer": "ipython3",
   "version": "3.8.10"
  },
  "orig_nbformat": 4,
  "vscode": {
   "interpreter": {
    "hash": "916dbcbb3f70747c44a77c7bcd40155683ae19c65e1c03b4aa3499c5328201f1"
   }
  }
 },
 "nbformat": 4,
 "nbformat_minor": 2
}
